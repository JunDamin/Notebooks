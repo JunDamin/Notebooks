{
 "cells": [
  {
   "cell_type": "markdown",
   "source": [
    "setting packages"
   ],
   "metadata": {}
  },
  {
   "outputs": [
    {
     "name": "stdout",
     "output_type": "stream",
     "text": [
      "   Resolving package versions...\n",
      "  No Changes to `~/.julia/environments/v1.8/Project.toml`\n",
      "  No Changes to `~/.julia/environments/v1.8/Manifest.toml`\n"
     ]
    }
   ],
   "cell_type": "code",
   "source": [
    "using Pkg\n",
    "\n",
    "Pkg.add([\"CSV\", \"DataFrames\", \"Turing\",\"Logging\", \"StatisticalRethinking\", \"StatisticalRethinkingPlots\", \"StatsBase\", \"Random\", \"LaTeXStrings\", \"StatsPlots\", \"Dagitty\"])\n",
    "\n",
    "\n",
    "using CSV\n",
    "using DataFrames\n",
    "using Turing\n",
    "using Logging\n",
    "using StatisticalRethinking\n",
    "using StatisticalRethinking: link  # import explicitly, because Turing has link method also\n",
    "using StatisticalRethinkingPlots\n",
    "using StatsBase\n",
    "using Random\n",
    "using LaTeXStrings\n",
    "using StatsPlots\n",
    "\n",
    "using Dagitty\n",
    "\n",
    "default(label=false)\n",
    "Logging.disable_logging(Logging.Warn);\n",
    "\n",
    "\n",
    "url = \"https://raw.githubusercontent.com/StatisticalRethinkingJulia/SR2TuringJupyter.jl/main/data/WaffleDivorce.csv\"\n",
    "\n",
    "data = DataFrame(CSV.File(download(url)))\n",
    "data[!,:D] = standardize(ZScoreTransform, data.Divorce)\n",
    "data[!,:M] = standardize(ZScoreTransform, data.Marriage)\n",
    "data[!,:A] = standardize(ZScoreTransform, data.MedianAgeMarriage);"
   ],
   "metadata": {},
   "execution_count": 1
  },
  {
   "cell_type": "markdown",
   "source": [
    "how to set numeric format?"
   ],
   "metadata": {}
  },
  {
   "outputs": [
    {
     "name": "stdout",
     "output_type": "stream",
     "text": [
      "standard deviation of median age is 1.2436303013880823\n"
     ]
    },
    {
     "output_type": "execute_result",
     "data": {
      "text/plain": "\u001b[1m5×3 DataFrame\u001b[0m\n\u001b[1m Row \u001b[0m│\u001b[1m a          \u001b[0m\u001b[1m bA         \u001b[0m\u001b[1m sigma     \u001b[0m\n\u001b[1m     \u001b[0m│\u001b[90m Float64    \u001b[0m\u001b[90m Float64    \u001b[0m\u001b[90m Float64   \u001b[0m\n─────┼───────────────────────────────────\n   1 │ -0.241561    0.252116   0.678091\n   2 │  0.295056   -0.238246   0.90592\n   3 │  0.0121098   0.813315   0.831374\n   4 │  0.202239   -0.0774171  0.0882492\n   5 │ -0.0300674  -0.27496    0.059543",
      "text/html": [
       "<div class=\"data-frame\"><p>5 rows × 3 columns</p><table class=\"data-frame\"><thead><tr><th></th><th>a</th><th>bA</th><th>sigma</th></tr><tr><th></th><th title=\"Float64\">Float64</th><th title=\"Float64\">Float64</th><th title=\"Float64\">Float64</th></tr></thead><tbody><tr><th>1</th><td>-0.241561</td><td>0.252116</td><td>0.678091</td></tr><tr><th>2</th><td>0.295056</td><td>-0.238246</td><td>0.90592</td></tr><tr><th>3</th><td>0.0121098</td><td>0.813315</td><td>0.831374</td></tr><tr><th>4</th><td>0.202239</td><td>-0.0774171</td><td>0.0882492</td></tr><tr><th>5</th><td>-0.0300674</td><td>-0.27496</td><td>0.059543</td></tr></tbody></table></div>"
      ]
     },
     "metadata": {},
     "execution_count": 2
    }
   ],
   "cell_type": "code",
   "source": [
    "println(\"standard deviation of median age is $(std(data.MedianAgeMarriage))\")\n",
    "\n",
    "\n",
    "Random.seed!(100)\n",
    "\n",
    "@model function model_m5_1(A, D)\n",
    "    sigma ~ Exponential(1)  # how to change unicode \\sigma?\n",
    "    a ~ Normal(0, 0.2)\n",
    "    bA ~ Normal(0, 0.5)\n",
    "    mu = @. a + bA * A  # what is @ mean?\n",
    "    D ~ MvNormal(mu, sigma)\n",
    "end\n",
    "\n",
    "m5_1 = sample(model_m5_1(data.A, data.D), NUTS(), 1000)\n",
    "m5_1_df = DataFrame(m5_1)\n",
    "prior = sample(model_m5_1([0], [0]), Prior(), 1000)\n",
    "prior_df = DataFrame(prior)\n",
    "\n",
    "prior_df[1:5,:]"
   ],
   "metadata": {},
   "execution_count": 2
  },
  {
   "cell_type": "markdown",
   "source": [
    "caculate \\mu for every prior sample on age=-2 and age=2"
   ],
   "metadata": {}
  },
  {
   "outputs": [
    {
     "output_type": "execute_result",
     "data": {
      "text/plain": "2-element Vector{Int64}:\n -2\n  2"
     },
     "metadata": {},
     "execution_count": 3
    }
   ],
   "cell_type": "code",
   "source": [
    "bounds = [-2, 2]"
   ],
   "metadata": {},
   "execution_count": 3
  },
  {
   "cell_type": "markdown",
   "source": [
    "---\n",
    "\n",
    "*This notebook was generated using [Literate.jl](https://github.com/fredrikekre/Literate.jl).*"
   ],
   "metadata": {}
  }
 ],
 "nbformat_minor": 3,
 "metadata": {
  "language_info": {
   "file_extension": ".jl",
   "mimetype": "application/julia",
   "name": "julia",
   "version": "1.8.0"
  },
  "kernelspec": {
   "name": "julia-1.8",
   "display_name": "Julia 1.8.0",
   "language": "julia"
  }
 },
 "nbformat": 4
}
