{
 "cells": [
  {
   "cell_type": "markdown",
   "id": "57d525bb-e532-4131-a6c4-82d8b6fb8f01",
   "metadata": {},
   "source": [
    "# Pycaret 사용해 보기"
   ]
  },
  {
   "cell_type": "markdown",
   "id": "3db3f606-427c-47c0-b59e-dccc2afd4ea4",
   "metadata": {},
   "source": [
    "## pycaret?\n",
    "\n",
    "Pycaret은 로우코드 머신러닝 라이브러리라고 합니다.\n",
    "\n",
    "sk-learn과 같은 머신러닝 패키지와의 가장 큰 차이점은 타깃을 하고 있는 부분이 모델이 아니라 머신러닝 프로세스라는 점입니다.\n",
    "\n",
    "보통 머신러닝 라이브러리는 새로운 알고리즘이나 방식을 쉽게 적용할 수 있게 만듭니다.\n",
    "sk-learn을 보시면 쉽게 이해할 수 있겠지만, 모델을 정의하고 데이터를 넣고 모델의 성능을 확인할 수 있습니다.\n",
    "\n",
    "하지만 보통 우리가 하고자 하는 것은 특정 모델을 만드는 것이 아니라 모델의 성능을 비교하고 적용하는 것입니다.\n",
    "\n",
    "Pycaret은 바로 이 부분, 모델을 비교하고 그것을 배포하는 것을 자동화 하는 라이브러리라고 보시면 됩니다.\n"
   ]
  }
 ],
 "metadata": {
  "kernelspec": {
   "display_name": "Python 3 (ipykernel)",
   "language": "python",
   "name": "python3"
  },
  "language_info": {
   "codemirror_mode": {
    "name": "ipython",
    "version": 3
   },
   "file_extension": ".py",
   "mimetype": "text/x-python",
   "name": "python",
   "nbconvert_exporter": "python",
   "pygments_lexer": "ipython3",
   "version": "3.8.10"
  }
 },
 "nbformat": 4,
 "nbformat_minor": 5
}
