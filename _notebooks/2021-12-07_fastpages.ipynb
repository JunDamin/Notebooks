{
 "cells": [
  {
   "cell_type": "markdown",
   "id": "b1c5fba4-18cc-4e67-8eb3-7683f923e733",
   "metadata": {},
   "source": [
    "# Fastpages로 블로그 시작하기\n",
    "\n",
    "## 시작하게 된 이유\n",
    "\n",
    "Jupyter notebook으로 글을 쓰곤 하는데 이를 가공하지 않고 올릴 수 있는 곳을 찾고 있었다.\n",
    "\n",
    "그러다가 Fastpages를 알게 되어 시작하고자 한다.\n",
    "\n",
    "## 설치하기\n",
    "\n",
    "아직 초보라서 그렇겠지만, 기존 가이드를 기반으로 하려고 한다.\n",
    "\n",
    "### 레포지토리 생성하기\n",
    "\n",
    "### 키 생성하기 \n",
    "\n",
    "주의할 점은 merge하기 전에 키 설정을 해야 한다.\n",
    "안 그러면 에러가 나더라.\n",
    "\n",
    "SSH_DEPLOY_KEY라는 이름은 필수다.\n",
    "\n",
    "### 이제 페이지 변경하기\n",
    "\n",
    "로고는 index.html\n",
    "제목이란 footer에서 써있는 건 _config.yml\n",
    "\n",
    "아티클이랑은 _notebooks, _posts(md), _word에 yyyy-mm-dd_파일명. 형식으로 해야한다. \n",
    "\n",
    "\n",
    "## 글쓸 때 참고할 만한 문법\n",
    "\n",
    "기본적으로는 Markdown문법을 따르는데 추가적으로 참고할 만한 것들이 있어 정리해 보고자 합니다. \n",
    "\n",
    "```\n",
    "여기서 참고{% fn 20 %} 했습니다.\n",
    "\n",
    "{{참고한 위치입니다. | findtail: 20}}\n",
    "```\n",
    "\n",
    "여기서 참고{% fn 20 %} 했습니다.\n",
    "\n",
    "{{참고한 위치입니다. | findtail: 20}}\n",
    "\n",
    "처럼 된다. "
   ]
  }
 ],
 "metadata": {
  "kernelspec": {
   "display_name": "Python 3 (ipykernel)",
   "language": "python",
   "name": "python3"
  },
  "language_info": {
   "codemirror_mode": {
    "name": "ipython",
    "version": 3
   },
   "file_extension": ".py",
   "mimetype": "text/x-python",
   "name": "python",
   "nbconvert_exporter": "python",
   "pygments_lexer": "ipython3",
   "version": "3.8.10"
  }
 },
 "nbformat": 4,
 "nbformat_minor": 5
}
