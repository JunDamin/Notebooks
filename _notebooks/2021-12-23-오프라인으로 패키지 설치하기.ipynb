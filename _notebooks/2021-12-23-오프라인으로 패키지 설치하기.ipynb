{
 "cells": [
  {
   "cell_type": "markdown",
   "id": "1b1ef021-8fcb-4f32-8088-30bbbc8ffaed",
   "metadata": {},
   "source": [
    "# 오프라인에서 패키지 설치하기"
   ]
  },
  {
   "cell_type": "markdown",
   "id": "0d2b1c4b",
   "metadata": {},
   "source": [
    "\n",
    "인터넷이 연될되지 않은 상황에서 파이썬 패키지를 설치하고자 할 때 알아두어야 할 것을 정리해 보고자 한다.\n",
    "\n",
    "1. 패키지를 받는다.\n",
    "    - pypi에서 whl 하나를 받을 순 있긴 한데 관련된 패키지가 없으면 결국 작동이 안된다.\n",
    "    - pip download {{패키지 이름}} 형식으로 작성하면 된다.\n",
    "    - 단 운영하고자 하는 OS에서 가동이 가능한 파일을 받아야 한다.\n",
    "2. 패키지 파일을 옮긴다.\n",
    "    - 패키지 파일을 설치하고자 하는 컴퓨터로 옮겨야 한다.\n",
    "    - 이 부분은 망분리 방식에 따라 다르기 때문에 별도로 다루진 않는다.\n",
    "3. pip에서 링크 옵션을 지정해서 할 수 있다.\n",
    "    - `--no-index`옵션과 `--find-links`옵션을 쓰면 설치할 수 있다.\n",
    "4. 패키지 중에서 API wrapper형식으로 된 경우 해당 소프트웨어를 설치해야 한다.\n",
    "    - `altair`를 쓰고자 하면 `vega`를 설치해야 한다.\n",
    "\n",
    "예시\n",
    "```\n",
    "pip install --no-index --find-links {패키지가 있는 경로} {설치할 패키지}\n",
    "```"
   ]
  }
 ],
 "metadata": {
  "kernelspec": {
   "display_name": "Python 3 (ipykernel)",
   "language": "python",
   "name": "python3"
  },
  "language_info": {
   "codemirror_mode": {
    "name": "ipython",
    "version": 3
   },
   "file_extension": ".py",
   "mimetype": "text/x-python",
   "name": "python",
   "nbconvert_exporter": "python",
   "pygments_lexer": "ipython3",
   "version": "3.8.10"
  }
 },
 "nbformat": 4,
 "nbformat_minor": 5
}
