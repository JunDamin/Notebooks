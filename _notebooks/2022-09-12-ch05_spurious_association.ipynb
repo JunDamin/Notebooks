{
 "cells": [
  {
   "cell_type": "code",
   "execution_count": 1,
   "metadata": {},
   "outputs": [
    {
     "name": "stderr",
     "output_type": "stream",
     "text": [
      "\u001b[32m\u001b[1m    Updating\u001b[22m\u001b[39m registry at `~/.julia/registries/General.toml`\n",
      "\u001b[32m\u001b[1m   Resolving\u001b[22m\u001b[39m package versions...\n",
      "\u001b[32m\u001b[1m  No Changes\u001b[22m\u001b[39m to `~/.julia/environments/v1.8/Project.toml`\n",
      "\u001b[32m\u001b[1m  No Changes\u001b[22m\u001b[39m to `~/.julia/environments/v1.8/Manifest.toml`\n"
     ]
    }
   ],
   "source": [
    "# setting packages\n",
    "\n",
    "using Pkg\n",
    "\n",
    "Pkg.add([\"CSV\", \"DataFrames\", \"Turing\",\"Logging\", \"StatisticalRethinking\", \"StatisticalRethinkingPlots\", \"StatsBase\", \"Random\", \"LaTeXStrings\", \"StatsPlots\", \"Dagitty\"])"
   ]
  },
  {
   "cell_type": "markdown",
   "metadata": {},
   "source": [
    "## import packages"
   ]
  },
  {
   "cell_type": "code",
   "execution_count": 2,
   "metadata": {},
   "outputs": [],
   "source": [
    "using CSV\n",
    "using DataFrames\n",
    "using Turing\n",
    "using Logging\n",
    "using StatisticalRethinking\n",
    "using StatisticalRethinking: link  # import explicitly, because Turing has link method also\n",
    "using StatisticalRethinkingPlots\n",
    "using StatsBase\n",
    "using Random\n",
    "using LaTeXStrings\n",
    "using StatsPlots\n",
    "\n",
    "using Dagitty\n",
    "\n",
    "default(label=false)\n",
    "Logging.disable_logging(Logging.Warn);"
   ]
  },
  {
   "cell_type": "code",
   "execution_count": 6,
   "metadata": {},
   "outputs": [],
   "source": [
    "url = \"https://raw.githubusercontent.com/StatisticalRethinkingJulia/SR2TuringJupyter.jl/main/data/WaffleDivorce.csv\"\n",
    "\n",
    "data = DataFrame(CSV.File(download(url)))\n",
    "data[!,:D] = standardize(ZScoreTransform, data.Divorce)\n",
    "data[!,:M] = standardize(ZScoreTransform, data.Marriage)\n",
    "data[!,:A] = standardize(ZScoreTransform, data.MedianAgeMarriage);"
   ]
  },
  {
   "cell_type": "markdown",
   "metadata": {},
   "source": []
  },
  {
   "cell_type": "code",
   "execution_count": 16,
   "metadata": {},
   "outputs": [
    {
     "name": "stdout",
     "output_type": "stream",
     "text": [
      "standard deviation of median age is 1.2436303013880823\n"
     ]
    }
   ],
   "source": [
    "# how to set numeric format?\n",
    "\n",
    "println(\"standard deviation of median age is $(std(data.MedianAgeMarriage))\")"
   ]
  },
  {
   "cell_type": "code",
   "execution_count": 20,
   "metadata": {},
   "outputs": [
    {
     "data": {
      "text/html": [
       "<div class=\"data-frame\"><p>5 rows × 3 columns</p><table class=\"data-frame\"><thead><tr><th></th><th>a</th><th>bA</th><th>sigma</th></tr><tr><th></th><th title=\"Float64\">Float64</th><th title=\"Float64\">Float64</th><th title=\"Float64\">Float64</th></tr></thead><tbody><tr><th>1</th><td>-0.241561</td><td>0.252116</td><td>0.678091</td></tr><tr><th>2</th><td>0.295056</td><td>-0.238246</td><td>0.90592</td></tr><tr><th>3</th><td>0.0121098</td><td>0.813315</td><td>0.831374</td></tr><tr><th>4</th><td>0.202239</td><td>-0.0774171</td><td>0.0882492</td></tr><tr><th>5</th><td>-0.0300674</td><td>-0.27496</td><td>0.059543</td></tr></tbody></table></div>"
      ],
      "text/latex": [
       "\\begin{tabular}{r|ccc}\n",
       "\t& a & bA & sigma\\\\\n",
       "\t\\hline\n",
       "\t& Float64 & Float64 & Float64\\\\\n",
       "\t\\hline\n",
       "\t1 & -0.241561 & 0.252116 & 0.678091 \\\\\n",
       "\t2 & 0.295056 & -0.238246 & 0.90592 \\\\\n",
       "\t3 & 0.0121098 & 0.813315 & 0.831374 \\\\\n",
       "\t4 & 0.202239 & -0.0774171 & 0.0882492 \\\\\n",
       "\t5 & -0.0300674 & -0.27496 & 0.059543 \\\\\n",
       "\\end{tabular}\n"
      ],
      "text/plain": [
       "\u001b[1m5×3 DataFrame\u001b[0m\n",
       "\u001b[1m Row \u001b[0m│\u001b[1m a          \u001b[0m\u001b[1m bA         \u001b[0m\u001b[1m sigma     \u001b[0m\n",
       "\u001b[1m     \u001b[0m│\u001b[90m Float64    \u001b[0m\u001b[90m Float64    \u001b[0m\u001b[90m Float64   \u001b[0m\n",
       "─────┼───────────────────────────────────\n",
       "   1 │ -0.241561    0.252116   0.678091\n",
       "   2 │  0.295056   -0.238246   0.90592\n",
       "   3 │  0.0121098   0.813315   0.831374\n",
       "   4 │  0.202239   -0.0774171  0.0882492\n",
       "   5 │ -0.0300674  -0.27496    0.059543"
      ]
     },
     "execution_count": 20,
     "metadata": {},
     "output_type": "execute_result"
    }
   ],
   "source": [
    "Random.seed!(100)\n",
    "\n",
    "@model function model_m5_1(A, D)\n",
    "    sigma ~ Exponential(1)  # how to change unicode \\sigma?\n",
    "    a ~ Normal(0, 0.2)\n",
    "    bA ~ Normal(0, 0.5)\n",
    "    mu = @. a + bA * A  # what is @ mean?\n",
    "    D ~ MvNormal(mu, sigma)\n",
    "end\n",
    "\n",
    "m5_1 = sample(model_m5_1(data.A, data.D), NUTS(), 1000)\n",
    "m5_1_df = DataFrame(m5_1)\n",
    "prior = sample(model_m5_1([0], [0]), Prior(), 1000)\n",
    "prior_df = DataFrame(prior)\n",
    "\n",
    "prior_df[1:5,:]"
   ]
  },
  {
   "cell_type": "code",
   "execution_count": null,
   "metadata": {},
   "outputs": [],
   "source": [
    "# caculate \\mu for every prior sample on age=-2 and age=2\n"
   ]
  }
 ],
 "metadata": {
  "kernelspec": {
   "display_name": "Julia 1.8.0",
   "language": "julia",
   "name": "julia-1.8"
  },
  "language_info": {
   "file_extension": ".jl",
   "mimetype": "application/julia",
   "name": "julia",
   "version": "1.8.0"
  },
  "orig_nbformat": 4
 },
 "nbformat": 4,
 "nbformat_minor": 2
}
