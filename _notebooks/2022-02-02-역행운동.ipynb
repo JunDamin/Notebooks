{
 "cells": [
  {
   "cell_type": "markdown",
   "metadata": {},
   "source": [
    "# Julia로 행성의 겉보기 역행운동을 그려보자\n",
    "\n",
    "유튜브를 보는 도중에 행성의 겉보기 역행 운동에 대한 영상을 보았다. \n",
    "[행성의 역행운동](https://earthsky.org/astronomy-essentials/what-is-retrograde-motion/)이란 지구에서 보기에 행성이 반대방향으로 움직이는 것처럼 보이는 현상이다. \n",
    "행성은 태양을 중심으로 돌고 있지만, 행성 간의 공전 속도의 차이로 뒤로 움직이는 듯이 보이는 현상을 말한다.\n",
    "\n",
    "![retrograde motion](https://earthsky.org/upl/2012/11/retrograde-motion-mars-july200-February2006-Tunc-Tezel.jpg)\n",
    "\n",
    "\n",
    "행성이 있고 보이는 각이 어떻게 바뀌는지를 시뮬레이션을 해보고자 하는데 \n",
    "줄리아에서 애니메이션을 만들 때 사용할 수 있는 `Javis`를 사용해서 그려보기로 한다.\n"
   ]
  },
  {
   "cell_type": "markdown",
   "metadata": {},
   "source": [
    "## 사전준비\n",
    "\n",
    "줄리아를 설치했다고 가정한다.\n",
    "\n",
    "우선 패키지를 설치해야 하는데 줄리아 REPL에서 `]`으로 패키지 매니저 모드로 들어간 후 `add Javis`를 입력하여 처리하거나\n",
    "\n",
    "아래와 같이 `Pkg` 모듈을 불러와서 설치해야 한다.\n",
    "(몇 분 정도 소요 될 수 있다.)"
   ]
  },
  {
   "cell_type": "code",
   "execution_count": 1,
   "metadata": {},
   "outputs": [],
   "source": [
    "using Pkg\n",
    "\n",
    "Pkg.add(\"Javis\")"
   ]
  },
  {
   "cell_type": "markdown",
   "metadata": {},
   "source": [
    "패키지를 설치했으면 그다음은 패키지를 불러와야 한다. "
   ]
  },
  {
   "cell_type": "code",
   "execution_count": null,
   "metadata": {},
   "outputs": [],
   "source": [
    "using Javis"
   ]
  },
  {
   "cell_type": "markdown",
   "metadata": {},
   "source": [
    "## 역행운동을 구하기 위한 함수\n",
    "\n",
    "애니메이션을 만들기 위해서 아래와 같이 함수를 정의했다. \n",
    "- `ground` : 배경을 설정하는 함수이다. \n",
    "- `object` : 25 픽셀 정도 되는 원을 그리는 함수다.\n",
    "- `path!` : 경로에 점을 찍어두는 함수다.\n",
    "- `connector` : 두 점을 지나는 선을 긋는 하수다.\n",
    "- `extender` : 안쪽 행성에서 바깥쪽 행성이 어디에 보여지를 그리는 함수다. \n",
    "- `abs` : 두 `Point`간의 거리를 구하는 함수이다.\n",
    "- `getpoint` : 특정 지점을 지나는 백터가 원과 접하는 점을 구하는 함수다."
   ]
  },
  {
   "cell_type": "code",
   "execution_count": 3,
   "metadata": {},
   "outputs": [
    {
     "data": {
      "text/plain": [
       "getpoint (generic function with 1 method)"
      ]
     },
     "execution_count": 3,
     "metadata": {},
     "output_type": "execute_result"
    }
   ],
   "source": [
    "function ground(args...) \n",
    "    background(\"white\") # canvas background\n",
    "    sethue(\"black\") # pen color\n",
    "end\n",
    "\n",
    "function object(p=O, color=\"black\")\n",
    "    sethue(color)\n",
    "    circle(p, 25, :fill)\n",
    "    return p\n",
    "end\n",
    "\n",
    "function path!(points, pos, color)\n",
    "    sethue(color)\n",
    "    push!(points, pos) # add pos to points\n",
    "    circle.(points, 2, :fill) # draws a circle for each point using broadcasting\n",
    "end\n",
    "\n",
    "function connector(p1, p2, color)\n",
    "    sethue(color)\n",
    "    line(p1,p2, :stroke)\n",
    "end\n",
    "\n",
    "function extender(points, p1, p2, r, color)\n",
    "    sethue(color)\n",
    "    d = p2 - p1\n",
    "    p3 = getpoint(p2, d, r, O)\n",
    "    line(p1, p3, :stroke)\n",
    "    circle(p3, 2, :fill)\n",
    "    push!(points, p3)\n",
    "    if length(points) > 200\n",
    "        popat!(points, 1)\n",
    "    end\n",
    "    circle.(points, 2, :fill)\n",
    "end\n",
    "\n",
    "import Base.abs\n",
    "\n",
    "function abs(p::Point, p0::Point)\n",
    "    d = p - p0\n",
    "    r = sqrt(d.x^2 + d.y^2)\n",
    "    return r\n",
    "end\n",
    "\n",
    "function getpoint(p, d, r, p0)\n",
    "    λ = 0.001\n",
    "    rate = 0.001\n",
    "    new_p = p\n",
    "    while true\n",
    "        new_p = p + λ * d\n",
    "        if r < abs(new_p, p0)\n",
    "            break\n",
    "        end\n",
    "        λ += rate\n",
    "    end\n",
    "    return new_p\n",
    "end\n",
    "\n"
   ]
  },
  {
   "cell_type": "markdown",
   "metadata": {},
   "source": [
    "## 그림을 그린다\n",
    "\n",
    "우선 캔버스를 그린 후 붉은 행성과 파란 행성이 돌고 있다고 가정한다. "
   ]
  },
  {
   "cell_type": "code",
   "execution_count": 4,
   "metadata": {},
   "outputs": [
    {
     "name": "stderr",
     "output_type": "stream",
     "text": [
      "\u001b[32mRendering frames...100%|████████████████████████████████| Time: 0:02:19\u001b[39m\n"
     ]
    },
    {
     "data": {
      "text/plain": [
       "\"ghtop_images/retrograde_motion.gif\""
      ]
     },
     "execution_count": 4,
     "metadata": {},
     "output_type": "execute_result"
    }
   ],
   "source": [
    "n = 1000\n",
    "\n",
    "myvideo = Video(2000, 2000)\n",
    "Background(1:n, ground)\n",
    "path_of_red = Point[] \n",
    "path_of_blue = Point[]\n",
    "red_ball = Object(1:n, (args...)->object(O, \"#ff2211\"), Point(100,0))\n",
    "act!(red_ball, Action(anim_rotate_around(24π, O)))\n",
    "blue_ball = Object(1:n, (args...)->object(O, \"#1122ff\"), Point(200,0))\n",
    "act!(blue_ball, Action(anim_rotate_around(7π, O)))\n",
    "Object(1:n, (args...)->connector(pos(red_ball), pos(blue_ball), \"black\"))\n",
    "Object(1:n, (args...)->path!(path_of_red, pos(red_ball), \"red\"))\n",
    "Object(1:n, (args...)->path!(path_of_blue, pos(blue_ball), \"blue\"))\n",
    "points = []\n",
    "Object(1:n, (args...)->extender(points, pos(red_ball), pos(blue_ball), 800, \"#112233\"))\n",
    "\n",
    "\n",
    "render(\n",
    "    myvideo;\n",
    "    pathname=\"ghtop_images/retrograde_motion.gif\"\n",
    ")"
   ]
  },
  {
   "cell_type": "markdown",
   "metadata": {},
   "source": [
    "그림을 그려보면 아래와 같이 결과가 나온다. \n",
    "\n",
    "보면 알 수 있듯이 내행성이 외행성을 빠르게 통과할 때 행성이 뒤로 가는 것처럼 보이게 된다.\n",
    "\n",
    "![retrograde_motion](ghtop_images/retrograde_motion.gif)"
   ]
  },
  {
   "cell_type": "markdown",
   "metadata": {},
   "source": []
  }
 ],
 "metadata": {
  "kernelspec": {
   "display_name": "Julia 1.6.1",
   "language": "julia",
   "name": "julia-1.6"
  },
  "language_info": {
   "file_extension": ".jl",
   "mimetype": "application/julia",
   "name": "julia",
   "version": "1.6.1"
  },
  "orig_nbformat": 4
 },
 "nbformat": 4,
 "nbformat_minor": 2
}
